{
 "cells": [
  {
   "attachments": {},
   "cell_type": "markdown",
   "metadata": {},
   "source": [
    "### Credit Assesment Classification Project"
   ]
  },
  {
   "attachments": {},
   "cell_type": "markdown",
   "metadata": {},
   "source": [
    "#### Imports"
   ]
  },
  {
   "cell_type": "code",
   "execution_count": 60,
   "metadata": {},
   "outputs": [],
   "source": [
    "import sklearn\n",
    "import pandas as pd\n",
    "import numpy as np"
   ]
  },
  {
   "cell_type": "code",
   "execution_count": 61,
   "metadata": {},
   "outputs": [
    {
     "name": "stderr",
     "output_type": "stream",
     "text": [
      "C:\\Users\\mateu\\AppData\\Local\\Temp\\ipykernel_12404\\3212007839.py:1: DtypeWarning: Columns (26) have mixed types. Specify dtype option on import or set low_memory=False.\n",
      "  train=pd.read_csv(\"train.csv\")\n"
     ]
    }
   ],
   "source": [
    "train=pd.read_csv(\"train.csv\")\n",
    "test=pd.read_csv(\"test.csv\")"
   ]
  },
  {
   "attachments": {},
   "cell_type": "markdown",
   "metadata": {},
   "source": [
    "#### Getting Baseline for Classification"
   ]
  },
  {
   "cell_type": "code",
   "execution_count": 62,
   "metadata": {},
   "outputs": [
    {
     "data": {
      "text/plain": [
       "Credit_Score\n",
       "Standard    53174\n",
       "Poor        28998\n",
       "Good        17828\n",
       "Name: count, dtype: int64"
      ]
     },
     "execution_count": 62,
     "metadata": {},
     "output_type": "execute_result"
    }
   ],
   "source": [
    "baseline_acc_train=train[\"Credit_Score\"].value_counts()\n",
    "baseline_acc_train"
   ]
  },
  {
   "cell_type": "code",
   "execution_count": 63,
   "metadata": {},
   "outputs": [
    {
     "name": "stdout",
     "output_type": "stream",
     "text": [
      "Baseline prediction when guessing majority class for training dataset: 53.17%\n"
     ]
    }
   ],
   "source": [
    "total_samples = baseline_acc_train.sum()\n",
    "majority_count = baseline_acc_train.max()\n",
    "percentage_majority = (majority_count / total_samples) * 100\n",
    "\n",
    "print(\"Baseline prediction when guessing majority class for training dataset: {:.2f}%\".format(percentage_majority))"
   ]
  },
  {
   "attachments": {},
   "cell_type": "markdown",
   "metadata": {},
   "source": [
    "#### Familiarizing with the data"
   ]
  },
  {
   "attachments": {},
   "cell_type": "markdown",
   "metadata": {},
   "source": [
    "Dropping ID, Customer_ID and Name columns. Extracting first 3 values from SSN column, adding column to show the result of classification for the previous loan request made by the client."
   ]
  },
  {
   "cell_type": "code",
   "execution_count": 64,
   "metadata": {},
   "outputs": [],
   "source": [
    "train = train.sort_values([\"Customer_ID\", 'Month'])\n",
    "train['Previous_Classification'] = ''\n",
    "for index, row in train.iterrows():\n",
    "    if index > 0 and train.at[index-1, \"Customer_ID\"] == row[\"Customer_ID\"]:\n",
    "        train.at[index, 'Previous_Classification'] = train.at[index-1, 'Credit_Score']\n",
    "    else:\n",
    "        train.at[index, 'Previous_Classification'] = \"NCR\"\n",
    "\n",
    "train['SSN_Location'] = train['SSN'].str[:3]\n",
    "train.drop(columns=[\"ID\",\"Customer_ID\", \"Name\",\"SSN\"],inplace=True)"
   ]
  },
  {
   "attachments": {},
   "cell_type": "markdown",
   "metadata": {},
   "source": [
    "Fixing the occurences of _ in float/int type objects"
   ]
  },
  {
   "cell_type": "code",
   "execution_count": 65,
   "metadata": {},
   "outputs": [],
   "source": [
    "for column in ['Annual_Income',\"Age\", 'Num_of_Loan', 'Num_of_Delayed_Payment', \"Changed_Credit_Limit\", \"Outstanding_Debt\", \"Amount_invested_monthly\",\"Monthly_Balance\",\"SSN_Location\"]:\n",
    "    train[column] = train[column].str.replace('_', '')\n",
    "\n",
    "for column in ['Age', 'Num_of_Loan', \"SSN_Location\"]:\n",
    "    try:\n",
    "        train[[column]] = train[[column]].astype(int)\n",
    "    except:\n",
    "        pass\n",
    "\n",
    "for column in train[['Annual_Income', 'Num_of_Delayed_Payment', \"Changed_Credit_Limit\", \"Outstanding_Debt\", \"Amount_invested_monthly\",\"Monthly_Balance\"]]:\n",
    "    try:\n",
    "        train[[column]] = train[[column]].astype(float)\n",
    "    except:\n",
    "        pass"
   ]
  },
  {
   "cell_type": "code",
   "execution_count": 66,
   "metadata": {},
   "outputs": [
    {
     "data": {
      "text/plain": [
       "Month                        object\n",
       "Age                           int32\n",
       "Occupation                   object\n",
       "Annual_Income               float64\n",
       "Monthly_Inhand_Salary       float64\n",
       "Num_Bank_Accounts             int64\n",
       "Num_Credit_Card               int64\n",
       "Interest_Rate                 int64\n",
       "Num_of_Loan                   int32\n",
       "Type_of_Loan                 object\n",
       "Delay_from_due_date           int64\n",
       "Num_of_Delayed_Payment      float64\n",
       "Changed_Credit_Limit         object\n",
       "Num_Credit_Inquiries        float64\n",
       "Credit_Mix                   object\n",
       "Outstanding_Debt            float64\n",
       "Credit_Utilization_Ratio    float64\n",
       "Credit_History_Age           object\n",
       "Payment_of_Min_Amount        object\n",
       "Total_EMI_per_month         float64\n",
       "Amount_invested_monthly     float64\n",
       "Payment_Behaviour            object\n",
       "Monthly_Balance             float64\n",
       "Credit_Score                 object\n",
       "Previous_Classification      object\n",
       "SSN_Location                 object\n",
       "dtype: object"
      ]
     },
     "execution_count": 66,
     "metadata": {},
     "output_type": "execute_result"
    }
   ],
   "source": [
    "train.dtypes"
   ]
  }
 ],
 "metadata": {
  "kernelspec": {
   "display_name": "env_pytorch",
   "language": "python",
   "name": "python3"
  },
  "language_info": {
   "codemirror_mode": {
    "name": "ipython",
    "version": 3
   },
   "file_extension": ".py",
   "mimetype": "text/x-python",
   "name": "python",
   "nbconvert_exporter": "python",
   "pygments_lexer": "ipython3",
   "version": "3.11.0"
  },
  "orig_nbformat": 4
 },
 "nbformat": 4,
 "nbformat_minor": 2
}

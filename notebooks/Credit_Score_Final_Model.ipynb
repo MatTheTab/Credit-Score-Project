{
 "cells": [
  {
   "attachments": {},
   "cell_type": "markdown",
   "metadata": {},
   "source": [
    "### Credit Score Assesment - Final Model"
   ]
  },
  {
   "attachments": {},
   "cell_type": "markdown",
   "metadata": {},
   "source": [
    "#### Imports"
   ]
  },
  {
   "cell_type": "code",
   "execution_count": 13,
   "metadata": {},
   "outputs": [],
   "source": [
    "import sklearn\n",
    "from sklearn.metrics import accuracy_score\n",
    "import pandas as pd\n",
    "from sklearn.model_selection import train_test_split\n",
    "from sklearn.tree import DecisionTreeClassifier\n",
    "from sklearn.neighbors import KNeighborsClassifier\n",
    "from sklearn.ensemble import RandomForestClassifier\n",
    "from sklearn.ensemble import VotingClassifier\n",
    "import joblib"
   ]
  },
  {
   "cell_type": "code",
   "execution_count": 14,
   "metadata": {},
   "outputs": [],
   "source": [
    "credit_cat=pd.read_csv(\"credit_cat.csv\")"
   ]
  },
  {
   "cell_type": "code",
   "execution_count": 15,
   "metadata": {},
   "outputs": [
    {
     "data": {
      "text/html": [
       "<div>\n",
       "<style scoped>\n",
       "    .dataframe tbody tr th:only-of-type {\n",
       "        vertical-align: middle;\n",
       "    }\n",
       "\n",
       "    .dataframe tbody tr th {\n",
       "        vertical-align: top;\n",
       "    }\n",
       "\n",
       "    .dataframe thead th {\n",
       "        text-align: right;\n",
       "    }\n",
       "</style>\n",
       "<table border=\"1\" class=\"dataframe\">\n",
       "  <thead>\n",
       "    <tr style=\"text-align: right;\">\n",
       "      <th></th>\n",
       "      <th>Month</th>\n",
       "      <th>Age</th>\n",
       "      <th>Occupation</th>\n",
       "      <th>Annual_Income</th>\n",
       "      <th>Monthly_Inhand_Salary</th>\n",
       "      <th>Num_Bank_Accounts</th>\n",
       "      <th>Num_Credit_Card</th>\n",
       "      <th>Interest_Rate</th>\n",
       "      <th>Num_of_Loan</th>\n",
       "      <th>Delay_from_due_date</th>\n",
       "      <th>...</th>\n",
       "      <th>Missing_Information</th>\n",
       "      <th>Home Equity Loan</th>\n",
       "      <th>Debt Consolidation Loan</th>\n",
       "      <th>Credit-Builder Loan</th>\n",
       "      <th>Auto Loan</th>\n",
       "      <th>Payday Loan</th>\n",
       "      <th>Mortgage Loan</th>\n",
       "      <th>Years</th>\n",
       "      <th>Months</th>\n",
       "      <th>Previous_Classification</th>\n",
       "    </tr>\n",
       "  </thead>\n",
       "  <tbody>\n",
       "    <tr>\n",
       "      <th>0</th>\n",
       "      <td>0.000000</td>\n",
       "      <td>0.022727</td>\n",
       "      <td>0.466667</td>\n",
       "      <td>0.000977</td>\n",
       "      <td>0.161232</td>\n",
       "      <td>0.003911</td>\n",
       "      <td>0.00334</td>\n",
       "      <td>0.204724</td>\n",
       "      <td>0.222222</td>\n",
       "      <td>0.958333</td>\n",
       "      <td>...</td>\n",
       "      <td>0.0</td>\n",
       "      <td>1.0</td>\n",
       "      <td>0.0</td>\n",
       "      <td>1.0</td>\n",
       "      <td>0.0</td>\n",
       "      <td>0.0</td>\n",
       "      <td>0.0</td>\n",
       "      <td>0.30303</td>\n",
       "      <td>0.454545</td>\n",
       "      <td>0.333333</td>\n",
       "    </tr>\n",
       "    <tr>\n",
       "      <th>1</th>\n",
       "      <td>0.142857</td>\n",
       "      <td>0.030303</td>\n",
       "      <td>0.466667</td>\n",
       "      <td>0.000977</td>\n",
       "      <td>0.161232</td>\n",
       "      <td>0.003911</td>\n",
       "      <td>0.00334</td>\n",
       "      <td>0.204724</td>\n",
       "      <td>0.222222</td>\n",
       "      <td>0.861111</td>\n",
       "      <td>...</td>\n",
       "      <td>0.0</td>\n",
       "      <td>1.0</td>\n",
       "      <td>0.0</td>\n",
       "      <td>1.0</td>\n",
       "      <td>0.0</td>\n",
       "      <td>0.0</td>\n",
       "      <td>0.0</td>\n",
       "      <td>0.30303</td>\n",
       "      <td>0.818182</td>\n",
       "      <td>0.666667</td>\n",
       "    </tr>\n",
       "    <tr>\n",
       "      <th>2</th>\n",
       "      <td>0.285714</td>\n",
       "      <td>0.022727</td>\n",
       "      <td>0.466667</td>\n",
       "      <td>0.000977</td>\n",
       "      <td>0.161232</td>\n",
       "      <td>0.003911</td>\n",
       "      <td>0.00334</td>\n",
       "      <td>0.204724</td>\n",
       "      <td>0.222222</td>\n",
       "      <td>0.930556</td>\n",
       "      <td>...</td>\n",
       "      <td>0.0</td>\n",
       "      <td>1.0</td>\n",
       "      <td>0.0</td>\n",
       "      <td>1.0</td>\n",
       "      <td>0.0</td>\n",
       "      <td>0.0</td>\n",
       "      <td>0.0</td>\n",
       "      <td>0.30303</td>\n",
       "      <td>0.272727</td>\n",
       "      <td>0.666667</td>\n",
       "    </tr>\n",
       "    <tr>\n",
       "      <th>3</th>\n",
       "      <td>0.428571</td>\n",
       "      <td>0.022727</td>\n",
       "      <td>0.466667</td>\n",
       "      <td>0.000977</td>\n",
       "      <td>0.161232</td>\n",
       "      <td>0.003911</td>\n",
       "      <td>0.00334</td>\n",
       "      <td>0.204724</td>\n",
       "      <td>0.222222</td>\n",
       "      <td>0.930556</td>\n",
       "      <td>...</td>\n",
       "      <td>0.0</td>\n",
       "      <td>1.0</td>\n",
       "      <td>0.0</td>\n",
       "      <td>1.0</td>\n",
       "      <td>0.0</td>\n",
       "      <td>0.0</td>\n",
       "      <td>0.0</td>\n",
       "      <td>0.30303</td>\n",
       "      <td>0.181818</td>\n",
       "      <td>0.666667</td>\n",
       "    </tr>\n",
       "    <tr>\n",
       "      <th>4</th>\n",
       "      <td>0.571429</td>\n",
       "      <td>0.030303</td>\n",
       "      <td>0.466667</td>\n",
       "      <td>0.000977</td>\n",
       "      <td>0.161232</td>\n",
       "      <td>0.003911</td>\n",
       "      <td>0.00334</td>\n",
       "      <td>0.204724</td>\n",
       "      <td>0.222222</td>\n",
       "      <td>0.930556</td>\n",
       "      <td>...</td>\n",
       "      <td>0.0</td>\n",
       "      <td>1.0</td>\n",
       "      <td>0.0</td>\n",
       "      <td>1.0</td>\n",
       "      <td>0.0</td>\n",
       "      <td>0.0</td>\n",
       "      <td>0.0</td>\n",
       "      <td>0.30303</td>\n",
       "      <td>0.727273</td>\n",
       "      <td>1.000000</td>\n",
       "    </tr>\n",
       "  </tbody>\n",
       "</table>\n",
       "<p>5 rows × 36 columns</p>\n",
       "</div>"
      ],
      "text/plain": [
       "      Month       Age  Occupation  Annual_Income  Monthly_Inhand_Salary   \n",
       "0  0.000000  0.022727    0.466667       0.000977               0.161232  \\\n",
       "1  0.142857  0.030303    0.466667       0.000977               0.161232   \n",
       "2  0.285714  0.022727    0.466667       0.000977               0.161232   \n",
       "3  0.428571  0.022727    0.466667       0.000977               0.161232   \n",
       "4  0.571429  0.030303    0.466667       0.000977               0.161232   \n",
       "\n",
       "   Num_Bank_Accounts  Num_Credit_Card  Interest_Rate  Num_of_Loan   \n",
       "0           0.003911          0.00334       0.204724     0.222222  \\\n",
       "1           0.003911          0.00334       0.204724     0.222222   \n",
       "2           0.003911          0.00334       0.204724     0.222222   \n",
       "3           0.003911          0.00334       0.204724     0.222222   \n",
       "4           0.003911          0.00334       0.204724     0.222222   \n",
       "\n",
       "   Delay_from_due_date  ...  Missing_Information  Home Equity Loan   \n",
       "0             0.958333  ...                  0.0               1.0  \\\n",
       "1             0.861111  ...                  0.0               1.0   \n",
       "2             0.930556  ...                  0.0               1.0   \n",
       "3             0.930556  ...                  0.0               1.0   \n",
       "4             0.930556  ...                  0.0               1.0   \n",
       "\n",
       "   Debt Consolidation Loan  Credit-Builder Loan  Auto Loan  Payday Loan   \n",
       "0                      0.0                  1.0        0.0          0.0  \\\n",
       "1                      0.0                  1.0        0.0          0.0   \n",
       "2                      0.0                  1.0        0.0          0.0   \n",
       "3                      0.0                  1.0        0.0          0.0   \n",
       "4                      0.0                  1.0        0.0          0.0   \n",
       "\n",
       "   Mortgage Loan    Years    Months  Previous_Classification  \n",
       "0            0.0  0.30303  0.454545                 0.333333  \n",
       "1            0.0  0.30303  0.818182                 0.666667  \n",
       "2            0.0  0.30303  0.272727                 0.666667  \n",
       "3            0.0  0.30303  0.181818                 0.666667  \n",
       "4            0.0  0.30303  0.727273                 1.000000  \n",
       "\n",
       "[5 rows x 36 columns]"
      ]
     },
     "execution_count": 15,
     "metadata": {},
     "output_type": "execute_result"
    }
   ],
   "source": [
    "credit_cat.head(5)"
   ]
  },
  {
   "attachments": {},
   "cell_type": "markdown",
   "metadata": {},
   "source": [
    "#### Creating and training an ensamble model"
   ]
  },
  {
   "cell_type": "code",
   "execution_count": 16,
   "metadata": {},
   "outputs": [],
   "source": [
    "X = credit_cat.drop('Credit_Score', axis=1)\n",
    "y = credit_cat['Credit_Score']"
   ]
  },
  {
   "cell_type": "code",
   "execution_count": 17,
   "metadata": {},
   "outputs": [],
   "source": [
    "X_train, X_test, y_train, y_test = train_test_split(X, y, test_size=0.3, random_state=23)"
   ]
  },
  {
   "cell_type": "code",
   "execution_count": 18,
   "metadata": {},
   "outputs": [
    {
     "name": "stdout",
     "output_type": "stream",
     "text": [
      "Testing Accuracy: 0.7844666666666666\n"
     ]
    }
   ],
   "source": [
    "ensemble_classifier = VotingClassifier(\n",
    "    estimators=[\n",
    "        ('RFC', RandomForestClassifier(max_depth=None, n_estimators=500)),\n",
    "        ('DT', DecisionTreeClassifier(max_depth=7)),\n",
    "        ('KNN', KNeighborsClassifier(metric='l1', n_neighbors=6))\n",
    "    ],\n",
    "    voting='hard'\n",
    ")\n",
    "\n",
    "\n",
    "ensemble_classifier.fit(X_train, y_train)\n",
    "predictions = ensemble_classifier.predict(X_test)\n",
    "accuracy = accuracy_score(y_test, predictions)\n",
    "print(\"Testing Accuracy:\", accuracy)"
   ]
  },
  {
   "cell_type": "code",
   "execution_count": 19,
   "metadata": {},
   "outputs": [
    {
     "data": {
      "text/plain": [
       "['final_ensamble_model.pkl']"
      ]
     },
     "execution_count": 19,
     "metadata": {},
     "output_type": "execute_result"
    }
   ],
   "source": [
    "joblib.dump(ensemble_classifier, 'final_ensamble_model.pkl')"
   ]
  }
 ],
 "metadata": {
  "kernelspec": {
   "display_name": "Python 3",
   "language": "python",
   "name": "python3"
  },
  "language_info": {
   "codemirror_mode": {
    "name": "ipython",
    "version": 3
   },
   "file_extension": ".py",
   "mimetype": "text/x-python",
   "name": "python",
   "nbconvert_exporter": "python",
   "pygments_lexer": "ipython3",
   "version": "3.11.0"
  },
  "orig_nbformat": 4
 },
 "nbformat": 4,
 "nbformat_minor": 2
}

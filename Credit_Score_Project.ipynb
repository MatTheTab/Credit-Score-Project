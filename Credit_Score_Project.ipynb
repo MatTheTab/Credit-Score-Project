{
 "cells": [
  {
   "attachments": {},
   "cell_type": "markdown",
   "metadata": {},
   "source": [
    "### Credit Assesment Classification Project"
   ]
  },
  {
   "attachments": {},
   "cell_type": "markdown",
   "metadata": {},
   "source": [
    "#### Imports"
   ]
  },
  {
   "cell_type": "code",
   "execution_count": 38,
   "metadata": {},
   "outputs": [],
   "source": [
    "import sklearn\n",
    "import pandas as pd\n",
    "import numpy as np\n",
    "from dateutil import relativedelta"
   ]
  },
  {
   "cell_type": "code",
   "execution_count": 39,
   "metadata": {},
   "outputs": [
    {
     "name": "stderr",
     "output_type": "stream",
     "text": [
      "C:\\Users\\mateu\\AppData\\Local\\Temp\\ipykernel_14832\\3212007839.py:1: DtypeWarning: Columns (26) have mixed types. Specify dtype option on import or set low_memory=False.\n",
      "  train=pd.read_csv(\"train.csv\")\n"
     ]
    }
   ],
   "source": [
    "train=pd.read_csv(\"train.csv\")\n",
    "test=pd.read_csv(\"test.csv\")"
   ]
  },
  {
   "attachments": {},
   "cell_type": "markdown",
   "metadata": {},
   "source": [
    "#### Getting Baseline for Classification"
   ]
  },
  {
   "cell_type": "code",
   "execution_count": 40,
   "metadata": {},
   "outputs": [
    {
     "data": {
      "text/plain": [
       "Credit_Score\n",
       "Standard    53174\n",
       "Poor        28998\n",
       "Good        17828\n",
       "Name: count, dtype: int64"
      ]
     },
     "execution_count": 40,
     "metadata": {},
     "output_type": "execute_result"
    }
   ],
   "source": [
    "baseline_acc_train=train[\"Credit_Score\"].value_counts()\n",
    "baseline_acc_train"
   ]
  },
  {
   "cell_type": "code",
   "execution_count": 41,
   "metadata": {},
   "outputs": [
    {
     "name": "stdout",
     "output_type": "stream",
     "text": [
      "Baseline prediction when guessing majority class for training dataset: 53.17%\n"
     ]
    }
   ],
   "source": [
    "total_samples = baseline_acc_train.sum()\n",
    "majority_count = baseline_acc_train.max()\n",
    "percentage_majority = (majority_count / total_samples) * 100\n",
    "\n",
    "print(\"Baseline prediction when guessing majority class for training dataset: {:.2f}%\".format(percentage_majority))"
   ]
  },
  {
   "attachments": {},
   "cell_type": "markdown",
   "metadata": {},
   "source": [
    "#### Familiarizing with the data and Clean-up"
   ]
  },
  {
   "attachments": {},
   "cell_type": "markdown",
   "metadata": {},
   "source": [
    "##### Fixing the occurences of _ in float/int type objects"
   ]
  },
  {
   "attachments": {},
   "cell_type": "markdown",
   "metadata": {},
   "source": [
    "Getting derived column from Social Security Number"
   ]
  },
  {
   "cell_type": "code",
   "execution_count": 42,
   "metadata": {},
   "outputs": [],
   "source": [
    "train['SSN_Location'] = train['SSN'].str[:3]"
   ]
  },
  {
   "attachments": {},
   "cell_type": "markdown",
   "metadata": {},
   "source": [
    "Converting values to floats/integers and removing '_' signs (errors in data)"
   ]
  },
  {
   "cell_type": "code",
   "execution_count": 43,
   "metadata": {},
   "outputs": [],
   "source": [
    "for column in ['Annual_Income',\"Age\", 'Num_of_Loan', 'Num_of_Delayed_Payment', \"Changed_Credit_Limit\", \"Outstanding_Debt\", \"Amount_invested_monthly\",\"Monthly_Balance\",\"SSN_Location\"]:\n",
    "    train[column] = train[column].str.replace('_', '')\n",
    "\n",
    "for column in ['Age', 'Num_of_Loan', \"SSN_Location\"]:\n",
    "    try:\n",
    "        train[[column]] = train[[column]].astype(int)\n",
    "    except:\n",
    "        pass\n",
    "\n",
    "for column in train[['Annual_Income', 'Num_of_Delayed_Payment', \"Changed_Credit_Limit\", \"Outstanding_Debt\", \"Amount_invested_monthly\",\"Monthly_Balance\"]]:\n",
    "    try:\n",
    "        train[[column]] = train[[column]].astype(float)\n",
    "    except:\n",
    "        pass"
   ]
  },
  {
   "attachments": {},
   "cell_type": "markdown",
   "metadata": {},
   "source": [
    "##### Dealing with some NA values"
   ]
  },
  {
   "cell_type": "code",
   "execution_count": null,
   "metadata": {},
   "outputs": [],
   "source": [
    "train['Monthly_Inhand_Salary'] = train.groupby('Customer_ID')['Monthly_Inhand_Salary'].transform(lambda x: x.fillna(x.median()))\n",
    "train['Monthly_Inhand_Salary'].fillna(train['Monthly_Inhand_Salary'].median(), inplace=True)"
   ]
  },
  {
   "cell_type": "code",
   "execution_count": null,
   "metadata": {},
   "outputs": [],
   "source": [
    "train.sort_values(['Customer_ID', 'Month'], inplace=True)\n",
    "train['Num_of_Delayed_Payment'].fillna(method='ffill', inplace=True)\n",
    "train['Num_of_Delayed_Payment'].fillna(train['Num_of_Delayed_Payment'].median(), inplace=True)"
   ]
  },
  {
   "cell_type": "code",
   "execution_count": null,
   "metadata": {},
   "outputs": [],
   "source": [
    "train['Num_Credit_Inquiries'].fillna(method='ffill', inplace=True)\n",
    "train['Num_Credit_Inquiries'].fillna(train['Num_Credit_Inquiries'].median(), inplace=True)"
   ]
  },
  {
   "cell_type": "code",
   "execution_count": null,
   "metadata": {},
   "outputs": [],
   "source": [
    "train['Type_of_Loan'].fillna('Missing_Information', inplace=True)"
   ]
  },
  {
   "cell_type": "code",
   "execution_count": null,
   "metadata": {},
   "outputs": [],
   "source": [
    "train['Amount_invested_monthly'] = train.groupby('Customer_ID')['Amount_invested_monthly'].transform(lambda x: x.fillna(x.median()))\n",
    "train[\"Amount_invested_monthly\"].fillna(train['Amount_invested_monthly'].median(), inplace=True)"
   ]
  },
  {
   "cell_type": "code",
   "execution_count": null,
   "metadata": {},
   "outputs": [],
   "source": [
    "train['Monthly_Balance'] = train.groupby('Customer_ID')['Monthly_Balance'].transform(\n",
    "    lambda x: x.fillna(x.median() if x.notna().any() else np.nan)\n",
    ")\n",
    "\n",
    "train[\"Monthly_Balance\"].fillna(train['Monthly_Balance'].median(), inplace=True)\n"
   ]
  },
  {
   "cell_type": "code",
   "execution_count": null,
   "metadata": {},
   "outputs": [],
   "source": [
    "train.sort_values(['Customer_ID', 'Month', 'Credit_History_Age'], inplace=True)\n",
    "train['Credit_History_Age'] = train.groupby('Customer_ID')['Credit_History_Age'].transform(\n",
    "    lambda x: x.fillna(x.ffill().bfill())\n",
    ")\n",
    "\n",
    "def calculate_month_difference(start_month, end_month):\n",
    "    start_year = 1\n",
    "    end_year = 1\n",
    "\n",
    "    if start_month > end_month:\n",
    "        end_year = 2\n",
    "\n",
    "    months_diff = abs(start_month - end_month)\n",
    "    years_diff = end_year - start_year\n",
    "\n",
    "    return relativedelta.relativedelta(months=months_diff, years=years_diff)\n",
    "\n",
    "for index, row in train.iterrows():\n",
    "    if pd.isna(row['Credit_History_Age']):\n",
    "        client_id = row['Customer_ID']\n",
    "        month_num = row['Month']\n",
    "        \n",
    "        prev_row = train.loc[(train['Customer_ID'] == client_id) & (train['Month'] < month_num), 'Credit_History_Age'].dropna().tail(1)\n",
    "        next_row = train.loc[(train['Customer_ID'] == client_id) & (train['Month'] > month_num), 'Credit_History_Age'].dropna().head(1)\n",
    "        \n",
    "        if not prev_row.empty and not next_row.empty:\n",
    "            prev_age = pd.to_timedelta(prev_row.values[0])\n",
    "            next_age = pd.to_timedelta(next_row.values[0])\n",
    "            \n",
    "            month_diff = calculate_month_difference(prev_age.months, next_age.months)\n",
    "            true_age = prev_age + month_diff\n",
    "            \n",
    "            train.at[index, 'Credit_History_Age'] = str(true_age.years) + ' Years and ' + str(true_age.months) + ' Months'\n",
    "\n",
    "\n",
    "\n",
    "train['Credit_History_Age'].fillna(train['Credit_History_Age'].mode()[0], inplace=True)"
   ]
  },
  {
   "attachments": {},
   "cell_type": "markdown",
   "metadata": {},
   "source": [
    "##### Fixing invalid values and dealing with anomalies"
   ]
  },
  {
   "attachments": {},
   "cell_type": "markdown",
   "metadata": {},
   "source": [
    "Fixing anomalies for 'Age' column"
   ]
  },
  {
   "cell_type": "code",
   "execution_count": null,
   "metadata": {},
   "outputs": [],
   "source": [
    "min_age = 10\n",
    "max_age = 150\n",
    "\n",
    "train.sort_values(by=['Customer_ID', 'Month'], inplace=True)\n",
    "train.reset_index(drop=True, inplace=True)\n",
    "\n",
    "for i in range(1, len(train)):\n",
    "    if train.loc[i, 'Age'] < min_age or train.loc[i, 'Age'] > max_age:\n",
    "        if train.loc[i, 'Customer_ID'] == train.loc[i-1, 'Customer_ID']:\n",
    "            train.loc[i, 'Age'] = train.loc[i-1, 'Age']\n",
    "\n",
    "median_age = train['Age'].median()\n",
    "for i in range(1, len(train)):\n",
    "    if train.loc[i, 'Age'] < min_age or train.loc[i, 'Age'] > max_age:\n",
    "        train.loc[i, 'Age'] = median_age"
   ]
  },
  {
   "attachments": {},
   "cell_type": "markdown",
   "metadata": {},
   "source": [
    "Fixing anomalies for 'Annual_Income' column"
   ]
  },
  {
   "cell_type": "code",
   "execution_count": null,
   "metadata": {},
   "outputs": [
    {
     "name": "stdout",
     "output_type": "stream",
     "text": [
      "986\n"
     ]
    }
   ],
   "source": [
    "min_income = 0\n",
    "max_income = 10\n",
    "num_changed_values=0\n",
    "\n",
    "train.sort_values(by=['Customer_ID', 'Month'], inplace=True)\n",
    "train.reset_index(drop=True, inplace=True)\n",
    "\n",
    "for i in range(1, len(train)):\n",
    "    wrong_income=False\n",
    "    if train.loc[i, 'Customer_ID'] == train.loc[i-1, 'Customer_ID'] and (train.loc[i, 'Annual_Income']*max_income<train.loc[i-1, 'Annual_Income'] or train.loc[i, 'Annual_Income']>max_income*train.loc[i-1, 'Annual_Income']):\n",
    "        wrong_income=True\n",
    "    if train.loc[i, 'Annual_Income'] < min_income or wrong_income:\n",
    "        try:\n",
    "            if train.loc[i, 'Customer_ID'] == train.loc[i-1, 'Customer_ID'] or train.loc[i, 'Customer_ID'] == train.loc[i+1, 'Customer_ID']:\n",
    "                if train.loc[i, 'Annual_Income'] < min_income:\n",
    "                    train.loc[i, 'Annual_Income']=max(train.loc[i-1, 'Annual_Income'],train.loc[i, 'Annual_Income'])\n",
    "                else:\n",
    "                    train.loc[i, 'Annual_Income'] = min(train.loc[i-1, 'Annual_Income'],train.loc[i, 'Annual_Income'])\n",
    "                num_changed_values+=1\n",
    "        except:\n",
    "            pass\n",
    "print(num_changed_values)"
   ]
  },
  {
   "attachments": {},
   "cell_type": "markdown",
   "metadata": {},
   "source": [
    "Fixing anomalies for 'Num_Bank_Accounts' column"
   ]
  },
  {
   "cell_type": "code",
   "execution_count": null,
   "metadata": {},
   "outputs": [
    {
     "name": "stdout",
     "output_type": "stream",
     "text": [
      "1103\n"
     ]
    }
   ],
   "source": [
    "min_accounts = 0\n",
    "max_accounts = 100\n",
    "num_changed_values=0\n",
    "\n",
    "train.sort_values(by=['Customer_ID', 'Month'], inplace=True)\n",
    "train.reset_index(drop=True, inplace=True)\n",
    "\n",
    "for i in range(0, len(train)-1):\n",
    "    if train.loc[i, 'Num_Bank_Accounts'] < min_accounts or train.loc[i, 'Num_Bank_Accounts'] > max_accounts:\n",
    "        if train.loc[i, 'Customer_ID'] == train.loc[i+1, 'Customer_ID'] and train.loc[i, 'Num_Bank_Accounts'] != train.loc[i+1, 'Num_Bank_Accounts']:\n",
    "            train.loc[i, 'Num_Bank_Accounts'] = train.loc[i+1, 'Num_Bank_Accounts']\n",
    "            num_changed_values+=1\n",
    "print(num_changed_values)"
   ]
  },
  {
   "attachments": {},
   "cell_type": "markdown",
   "metadata": {},
   "source": [
    "Fixing anomalies for 'Num_Credit_Card' column"
   ]
  },
  {
   "cell_type": "code",
   "execution_count": null,
   "metadata": {},
   "outputs": [
    {
     "name": "stdout",
     "output_type": "stream",
     "text": [
      "1858\n"
     ]
    }
   ],
   "source": [
    "min_cards = 0\n",
    "max_cards = 100\n",
    "num_changed_values=0\n",
    "\n",
    "train.sort_values(by=['Customer_ID', 'Month'], inplace=True)\n",
    "train.reset_index(drop=True, inplace=True)\n",
    "\n",
    "for i in range(0, len(train)-1):\n",
    "    if train.loc[i, 'Num_Credit_Card'] < min_cards or train.loc[i, 'Num_Credit_Card'] > max_cards:\n",
    "        if train.loc[i, 'Customer_ID'] == train.loc[i+1, 'Customer_ID'] and train.loc[i, 'Num_Credit_Card'] != train.loc[i+1, 'Num_Credit_Card']:\n",
    "            train.loc[i, 'Num_Credit_Card'] = train.loc[i+1, 'Num_Credit_Card']\n",
    "            num_changed_values+=1\n",
    "print(num_changed_values)"
   ]
  },
  {
   "attachments": {},
   "cell_type": "markdown",
   "metadata": {},
   "source": [
    "Fixing anomalies for 'Interest_Rate' column"
   ]
  },
  {
   "cell_type": "code",
   "execution_count": null,
   "metadata": {},
   "outputs": [],
   "source": [
    "upper_range=np.percentile(train['Interest_Rate'], 98)\n",
    "lower_range=0\n",
    "\n",
    "median_value = train['Interest_Rate'].median()\n",
    "train.loc[(train['Interest_Rate'] > upper_range) | (train['Interest_Rate'] < lower_range), 'Interest_Rate'] = median_value"
   ]
  },
  {
   "attachments": {},
   "cell_type": "markdown",
   "metadata": {},
   "source": [
    "Fixing anomalies for 'Num_of_Loan' column"
   ]
  },
  {
   "cell_type": "code",
   "execution_count": null,
   "metadata": {},
   "outputs": [],
   "source": [
    "upper_range=np.percentile(train['Num_of_Loan'], 99.5)\n",
    "lower_range=0\n",
    "\n",
    "median_value = train['Num_of_Loan'].median()\n",
    "train.loc[(train['Num_of_Loan'] > upper_range) | (train['Num_of_Loan'] < lower_range), 'Num_of_Loan'] = median_value"
   ]
  },
  {
   "attachments": {},
   "cell_type": "markdown",
   "metadata": {},
   "source": [
    "Fixing anomalies for 'Type_of_Loan' column"
   ]
  },
  {
   "cell_type": "code",
   "execution_count": null,
   "metadata": {},
   "outputs": [],
   "source": [
    "unique_values = set()\n",
    "for value in train['Type_of_Loan']:\n",
    "    for sub_value in value.split(', '):\n",
    "        unique_values.add(sub_value.replace(\"and \",\"\"))\n",
    "\n",
    "for value in unique_values:\n",
    "    train[value] = train['Type_of_Loan'].apply(lambda x: 1 if value in x else 0)\n",
    "\n",
    "train.drop(columns=[\"Type_of_Loan\"],inplace=True)"
   ]
  },
  {
   "attachments": {},
   "cell_type": "markdown",
   "metadata": {},
   "source": [
    "Fixing anomalies for 'Num_of_Delayed_Payment' column"
   ]
  },
  {
   "cell_type": "code",
   "execution_count": null,
   "metadata": {},
   "outputs": [
    {
     "name": "stdout",
     "output_type": "stream",
     "text": [
      "3197\n"
     ]
    }
   ],
   "source": [
    "min_delays = 0\n",
    "max_delays = 5\n",
    "num_changed_values=0\n",
    "\n",
    "train.sort_values(by=['Customer_ID', 'Month'], inplace=True)\n",
    "train.reset_index(drop=True, inplace=True)\n",
    "\n",
    "for i in range(1, len(train)):\n",
    "    wrong_income=False\n",
    "    if train.loc[i, 'Customer_ID'] == train.loc[i-1, 'Customer_ID'] and (train.loc[i, 'Num_of_Delayed_Payment']*max_income<train.loc[i-1, 'Num_of_Delayed_Payment'] or train.loc[i, 'Num_of_Delayed_Payment']>max_income*train.loc[i-1, 'Num_of_Delayed_Payment']):\n",
    "        wrong_income=True\n",
    "    if train.loc[i, 'Num_of_Delayed_Payment'] < min_income or wrong_income:\n",
    "        try:\n",
    "            if train.loc[i, 'Customer_ID'] == train.loc[i-1, 'Customer_ID'] or train.loc[i, 'Customer_ID'] == train.loc[i+1, 'Customer_ID']:\n",
    "                if train.loc[i, 'Num_of_Delayed_Payment'] < min_income:\n",
    "                    train.loc[i, 'Num_of_Delayed_Payment']=max(train.loc[i-1, 'Num_of_Delayed_Payment'],train.loc[i, 'Num_of_Delayed_Payment'])\n",
    "                else:\n",
    "                    train.loc[i, 'Num_of_Delayed_Payment'] = min(train.loc[i-1, 'Num_of_Delayed_Payment'],train.loc[i, 'Num_of_Delayed_Payment'])\n",
    "                num_changed_values+=1\n",
    "        except:\n",
    "            pass\n",
    "print(num_changed_values)"
   ]
  },
  {
   "cell_type": "code",
   "execution_count": null,
   "metadata": {},
   "outputs": [],
   "source": [
    "upper_range=np.percentile(train['Num_of_Delayed_Payment'], 99.8)\n",
    "lower_range=0\n",
    "\n",
    "median_value = train['Num_of_Delayed_Payment'].median()\n",
    "train.loc[(train['Num_of_Delayed_Payment'] > upper_range) | (train['Num_of_Delayed_Payment'] < lower_range), 'Num_of_Delayed_Payment'] = median_value"
   ]
  },
  {
   "attachments": {},
   "cell_type": "markdown",
   "metadata": {},
   "source": [
    "Fixing anomalies for 'Changed_Credit_Limit' column"
   ]
  },
  {
   "cell_type": "code",
   "execution_count": null,
   "metadata": {},
   "outputs": [
    {
     "name": "stdout",
     "output_type": "stream",
     "text": [
      "2123\n"
     ]
    }
   ],
   "source": [
    "num_changed_values=0\n",
    "train.sort_values(by=['Customer_ID', 'Month'], inplace=True)\n",
    "train.reset_index(drop=True, inplace=True)\n",
    "\n",
    "for i in range(0, len(train)-1):\n",
    "    if train.loc[i, 'Changed_Credit_Limit']=='':\n",
    "        if train.loc[i, 'Customer_ID'] == train.loc[i+1, 'Customer_ID']:\n",
    "            train.loc[i, 'Changed_Credit_Limit'] = train.loc[i+1, 'Changed_Credit_Limit']\n",
    "        else:\n",
    "            train.loc[i, 'Changed_Credit_Limit'] = 0\n",
    "        num_changed_values+=1\n",
    "\n",
    "for i in range(0,len(train)):\n",
    "    if train.loc[i, 'Changed_Credit_Limit']=='':\n",
    "        train.loc[i, 'Changed_Credit_Limit'] = 0\n",
    "        num_changed_values+=1\n",
    "\n",
    "train[['Changed_Credit_Limit']] = train[['Changed_Credit_Limit']].astype(float)\n",
    "print(num_changed_values)"
   ]
  },
  {
   "attachments": {},
   "cell_type": "markdown",
   "metadata": {},
   "source": [
    "Fixing anomalies for 'Num_Credit_Inquiries' column"
   ]
  },
  {
   "cell_type": "code",
   "execution_count": null,
   "metadata": {},
   "outputs": [
    {
     "name": "stdout",
     "output_type": "stream",
     "text": [
      "4195\n"
     ]
    }
   ],
   "source": [
    "upper_range=np.percentile(train['Num_Credit_Inquiries'], 98.3)\n",
    "lower_range=0\n",
    "\n",
    "train.sort_values(by=['Customer_ID', 'Month'], inplace=True)\n",
    "train.reset_index(drop=True, inplace=True)\n",
    "\n",
    "for i in range(0, len(train)-1):\n",
    "    if train.loc[i, 'Num_Credit_Inquiries'] < lower_range or train.loc[i, 'Num_Credit_Inquiries'] > upper_range:\n",
    "        if train.loc[i, 'Customer_ID'] == train.loc[i+1, 'Customer_ID'] and train.loc[i, 'Num_Credit_Inquiries'] != train.loc[i+1, 'Num_Credit_Inquiries']:\n",
    "            train.loc[i, 'Num_Credit_Inquiries'] = train.loc[i+1, 'Num_Credit_Inquiries']\n",
    "            num_changed_values+=1\n",
    "        try:\n",
    "            if train.loc[i, 'Customer_ID'] == train.loc[i-1, 'Customer_ID'] and train.loc[i, 'Num_Credit_Inquiries'] != train.loc[i-1, 'Num_Credit_Inquiries']:\n",
    "                train.loc[i, 'Num_Credit_Inquiries'] = train.loc[i-1, 'Num_Credit_Inquiries']\n",
    "                num_changed_values+=1\n",
    "        except:\n",
    "            pass\n",
    "\n",
    "median_value = train['Num_Credit_Inquiries'].median()\n",
    "for i in range(0,len(train)-1):\n",
    "    if train.loc[i, 'Num_Credit_Inquiries'] < lower_range or train.loc[i, 'Num_Credit_Inquiries'] > upper_range:\n",
    "        train.loc[i,\"Num_Credit_Inquiries\"] = median_value\n",
    "\n",
    "print(num_changed_values)"
   ]
  },
  {
   "attachments": {},
   "cell_type": "markdown",
   "metadata": {},
   "source": [
    "Adding derived data from 'Credit_History_Age' column and dropping the original column"
   ]
  },
  {
   "cell_type": "code",
   "execution_count": null,
   "metadata": {},
   "outputs": [],
   "source": [
    "train[['Years', 'Months']] = train['Credit_History_Age'].str.extract(r'(\\d+) Years and (\\d+) Months')\n",
    "train[['Years', 'Months']] = train[['Years', 'Months']].astype(int)\n",
    "train.drop(columns=\"Credit_History_Age\",inplace=True)"
   ]
  },
  {
   "attachments": {},
   "cell_type": "markdown",
   "metadata": {},
   "source": [
    "Changing values for 'Occupation' to be more human-understandable, assuming ______ in 'Occupation' means 'unemployed'"
   ]
  },
  {
   "cell_type": "code",
   "execution_count": null,
   "metadata": {},
   "outputs": [],
   "source": [
    "to_replace = '_______'\n",
    "replacement = 'Unemployed'\n",
    "\n",
    "train['Occupation'] = train['Occupation'].replace(to_replace, replacement)"
   ]
  },
  {
   "attachments": {},
   "cell_type": "markdown",
   "metadata": {},
   "source": [
    "Changing values for 'Credit_Mix' to be more human-understandable, assuming '_' in 'Credit_Mix' means 'Missing'"
   ]
  },
  {
   "cell_type": "code",
   "execution_count": null,
   "metadata": {},
   "outputs": [],
   "source": [
    "to_replace = '_'\n",
    "replacement = 'Missing'\n",
    "\n",
    "train['Credit_Mix'] = train['Credit_Mix'].replace(to_replace, replacement)"
   ]
  },
  {
   "attachments": {},
   "cell_type": "markdown",
   "metadata": {},
   "source": [
    "Changing values for 'Payment_Behaviour' to be more human-understandable, assuming '!@9#%8' in 'Payment_Behaviour' means 'Missing'"
   ]
  },
  {
   "cell_type": "code",
   "execution_count": null,
   "metadata": {},
   "outputs": [],
   "source": [
    "to_replace = '!@9#%8'\n",
    "replacement = 'Missing'\n",
    "\n",
    "train['Payment_Behaviour'] = train['Payment_Behaviour'].replace(to_replace, replacement)"
   ]
  },
  {
   "attachments": {},
   "cell_type": "markdown",
   "metadata": {},
   "source": [
    "##### Dropping unwanted columns and adding derived columns"
   ]
  },
  {
   "attachments": {},
   "cell_type": "markdown",
   "metadata": {},
   "source": [
    "Dropping ID, Customer_ID and Name columns. Extracting first 3 values from SSN column, adding column to show the result of classification for the previous loan request made by the client."
   ]
  },
  {
   "cell_type": "code",
   "execution_count": null,
   "metadata": {},
   "outputs": [],
   "source": [
    "train = train.sort_values([\"Customer_ID\", 'Month'])\n",
    "train['Previous_Classification'] = ''\n",
    "for index, row in train.iterrows():\n",
    "    if index > 0 and train.at[index-1, \"Customer_ID\"] == row[\"Customer_ID\"]:\n",
    "        train.at[index, 'Previous_Classification'] = train.at[index-1, 'Credit_Score']\n",
    "    else:\n",
    "        train.at[index, 'Previous_Classification'] = \"NCR\"\n",
    "\n",
    "train.drop(columns=[\"ID\",\"Customer_ID\", \"Name\",\"SSN\"],inplace=True)"
   ]
  },
  {
   "attachments": {},
   "cell_type": "markdown",
   "metadata": {},
   "source": [
    "#### Saving the cleaned-up dataframe"
   ]
  },
  {
   "attachments": {},
   "cell_type": "markdown",
   "metadata": {},
   "source": [
    "##### Current state of the dataframe"
   ]
  },
  {
   "cell_type": "code",
   "execution_count": null,
   "metadata": {},
   "outputs": [
    {
     "data": {
      "text/html": [
       "<div>\n",
       "<style scoped>\n",
       "    .dataframe tbody tr th:only-of-type {\n",
       "        vertical-align: middle;\n",
       "    }\n",
       "\n",
       "    .dataframe tbody tr th {\n",
       "        vertical-align: top;\n",
       "    }\n",
       "\n",
       "    .dataframe thead th {\n",
       "        text-align: right;\n",
       "    }\n",
       "</style>\n",
       "<table border=\"1\" class=\"dataframe\">\n",
       "  <thead>\n",
       "    <tr style=\"text-align: right;\">\n",
       "      <th></th>\n",
       "      <th>Month</th>\n",
       "      <th>Age</th>\n",
       "      <th>Occupation</th>\n",
       "      <th>Annual_Income</th>\n",
       "      <th>Monthly_Inhand_Salary</th>\n",
       "      <th>Num_Bank_Accounts</th>\n",
       "      <th>Num_Credit_Card</th>\n",
       "      <th>Interest_Rate</th>\n",
       "      <th>Num_of_Loan</th>\n",
       "      <th>Delay_from_due_date</th>\n",
       "      <th>...</th>\n",
       "      <th>Missing_Information</th>\n",
       "      <th>Home Equity Loan</th>\n",
       "      <th>Debt Consolidation Loan</th>\n",
       "      <th>Credit-Builder Loan</th>\n",
       "      <th>Auto Loan</th>\n",
       "      <th>Payday Loan</th>\n",
       "      <th>Mortgage Loan</th>\n",
       "      <th>Years</th>\n",
       "      <th>Months</th>\n",
       "      <th>Previous_Classification</th>\n",
       "    </tr>\n",
       "  </thead>\n",
       "  <tbody>\n",
       "    <tr>\n",
       "      <th>0</th>\n",
       "      <td>April</td>\n",
       "      <td>17</td>\n",
       "      <td>Lawyer</td>\n",
       "      <td>30625.94</td>\n",
       "      <td>2706.161667</td>\n",
       "      <td>6</td>\n",
       "      <td>5</td>\n",
       "      <td>27</td>\n",
       "      <td>2</td>\n",
       "      <td>64</td>\n",
       "      <td>...</td>\n",
       "      <td>0</td>\n",
       "      <td>1</td>\n",
       "      <td>0</td>\n",
       "      <td>1</td>\n",
       "      <td>0</td>\n",
       "      <td>0</td>\n",
       "      <td>0</td>\n",
       "      <td>10</td>\n",
       "      <td>5</td>\n",
       "      <td>NCR</td>\n",
       "    </tr>\n",
       "    <tr>\n",
       "      <th>1</th>\n",
       "      <td>August</td>\n",
       "      <td>18</td>\n",
       "      <td>Lawyer</td>\n",
       "      <td>30625.94</td>\n",
       "      <td>2706.161667</td>\n",
       "      <td>6</td>\n",
       "      <td>5</td>\n",
       "      <td>27</td>\n",
       "      <td>2</td>\n",
       "      <td>57</td>\n",
       "      <td>...</td>\n",
       "      <td>0</td>\n",
       "      <td>1</td>\n",
       "      <td>0</td>\n",
       "      <td>1</td>\n",
       "      <td>0</td>\n",
       "      <td>0</td>\n",
       "      <td>0</td>\n",
       "      <td>10</td>\n",
       "      <td>9</td>\n",
       "      <td>Poor</td>\n",
       "    </tr>\n",
       "    <tr>\n",
       "      <th>2</th>\n",
       "      <td>February</td>\n",
       "      <td>17</td>\n",
       "      <td>Lawyer</td>\n",
       "      <td>30625.94</td>\n",
       "      <td>2706.161667</td>\n",
       "      <td>6</td>\n",
       "      <td>5</td>\n",
       "      <td>27</td>\n",
       "      <td>2</td>\n",
       "      <td>62</td>\n",
       "      <td>...</td>\n",
       "      <td>0</td>\n",
       "      <td>1</td>\n",
       "      <td>0</td>\n",
       "      <td>1</td>\n",
       "      <td>0</td>\n",
       "      <td>0</td>\n",
       "      <td>0</td>\n",
       "      <td>10</td>\n",
       "      <td>3</td>\n",
       "      <td>Poor</td>\n",
       "    </tr>\n",
       "    <tr>\n",
       "      <th>3</th>\n",
       "      <td>January</td>\n",
       "      <td>17</td>\n",
       "      <td>Lawyer</td>\n",
       "      <td>30625.94</td>\n",
       "      <td>2706.161667</td>\n",
       "      <td>6</td>\n",
       "      <td>5</td>\n",
       "      <td>27</td>\n",
       "      <td>2</td>\n",
       "      <td>62</td>\n",
       "      <td>...</td>\n",
       "      <td>0</td>\n",
       "      <td>1</td>\n",
       "      <td>0</td>\n",
       "      <td>1</td>\n",
       "      <td>0</td>\n",
       "      <td>0</td>\n",
       "      <td>0</td>\n",
       "      <td>10</td>\n",
       "      <td>2</td>\n",
       "      <td>Poor</td>\n",
       "    </tr>\n",
       "    <tr>\n",
       "      <th>4</th>\n",
       "      <td>July</td>\n",
       "      <td>18</td>\n",
       "      <td>Lawyer</td>\n",
       "      <td>30625.94</td>\n",
       "      <td>2706.161667</td>\n",
       "      <td>6</td>\n",
       "      <td>5</td>\n",
       "      <td>27</td>\n",
       "      <td>2</td>\n",
       "      <td>62</td>\n",
       "      <td>...</td>\n",
       "      <td>0</td>\n",
       "      <td>1</td>\n",
       "      <td>0</td>\n",
       "      <td>1</td>\n",
       "      <td>0</td>\n",
       "      <td>0</td>\n",
       "      <td>0</td>\n",
       "      <td>10</td>\n",
       "      <td>8</td>\n",
       "      <td>Standard</td>\n",
       "    </tr>\n",
       "    <tr>\n",
       "      <th>...</th>\n",
       "      <td>...</td>\n",
       "      <td>...</td>\n",
       "      <td>...</td>\n",
       "      <td>...</td>\n",
       "      <td>...</td>\n",
       "      <td>...</td>\n",
       "      <td>...</td>\n",
       "      <td>...</td>\n",
       "      <td>...</td>\n",
       "      <td>...</td>\n",
       "      <td>...</td>\n",
       "      <td>...</td>\n",
       "      <td>...</td>\n",
       "      <td>...</td>\n",
       "      <td>...</td>\n",
       "      <td>...</td>\n",
       "      <td>...</td>\n",
       "      <td>...</td>\n",
       "      <td>...</td>\n",
       "      <td>...</td>\n",
       "      <td>...</td>\n",
       "    </tr>\n",
       "    <tr>\n",
       "      <th>99995</th>\n",
       "      <td>January</td>\n",
       "      <td>29</td>\n",
       "      <td>Scientist</td>\n",
       "      <td>41398.44</td>\n",
       "      <td>3749.870000</td>\n",
       "      <td>8</td>\n",
       "      <td>7</td>\n",
       "      <td>13</td>\n",
       "      <td>6</td>\n",
       "      <td>25</td>\n",
       "      <td>...</td>\n",
       "      <td>0</td>\n",
       "      <td>1</td>\n",
       "      <td>0</td>\n",
       "      <td>0</td>\n",
       "      <td>1</td>\n",
       "      <td>1</td>\n",
       "      <td>1</td>\n",
       "      <td>18</td>\n",
       "      <td>2</td>\n",
       "      <td>Standard</td>\n",
       "    </tr>\n",
       "    <tr>\n",
       "      <th>99996</th>\n",
       "      <td>July</td>\n",
       "      <td>30</td>\n",
       "      <td>Scientist</td>\n",
       "      <td>41398.44</td>\n",
       "      <td>3749.870000</td>\n",
       "      <td>8</td>\n",
       "      <td>7</td>\n",
       "      <td>13</td>\n",
       "      <td>6</td>\n",
       "      <td>23</td>\n",
       "      <td>...</td>\n",
       "      <td>0</td>\n",
       "      <td>1</td>\n",
       "      <td>0</td>\n",
       "      <td>0</td>\n",
       "      <td>1</td>\n",
       "      <td>1</td>\n",
       "      <td>1</td>\n",
       "      <td>18</td>\n",
       "      <td>8</td>\n",
       "      <td>Standard</td>\n",
       "    </tr>\n",
       "    <tr>\n",
       "      <th>99997</th>\n",
       "      <td>June</td>\n",
       "      <td>29</td>\n",
       "      <td>Scientist</td>\n",
       "      <td>41398.44</td>\n",
       "      <td>3749.870000</td>\n",
       "      <td>8</td>\n",
       "      <td>7</td>\n",
       "      <td>13</td>\n",
       "      <td>6</td>\n",
       "      <td>23</td>\n",
       "      <td>...</td>\n",
       "      <td>0</td>\n",
       "      <td>1</td>\n",
       "      <td>0</td>\n",
       "      <td>0</td>\n",
       "      <td>1</td>\n",
       "      <td>1</td>\n",
       "      <td>1</td>\n",
       "      <td>18</td>\n",
       "      <td>7</td>\n",
       "      <td>Good</td>\n",
       "    </tr>\n",
       "    <tr>\n",
       "      <th>99998</th>\n",
       "      <td>March</td>\n",
       "      <td>29</td>\n",
       "      <td>Scientist</td>\n",
       "      <td>41398.44</td>\n",
       "      <td>3749.870000</td>\n",
       "      <td>8</td>\n",
       "      <td>7</td>\n",
       "      <td>13</td>\n",
       "      <td>6</td>\n",
       "      <td>25</td>\n",
       "      <td>...</td>\n",
       "      <td>0</td>\n",
       "      <td>1</td>\n",
       "      <td>0</td>\n",
       "      <td>0</td>\n",
       "      <td>1</td>\n",
       "      <td>1</td>\n",
       "      <td>1</td>\n",
       "      <td>18</td>\n",
       "      <td>4</td>\n",
       "      <td>Standard</td>\n",
       "    </tr>\n",
       "    <tr>\n",
       "      <th>99999</th>\n",
       "      <td>May</td>\n",
       "      <td>29</td>\n",
       "      <td>Unemployed</td>\n",
       "      <td>41398.44</td>\n",
       "      <td>3749.870000</td>\n",
       "      <td>8</td>\n",
       "      <td>7</td>\n",
       "      <td>13</td>\n",
       "      <td>6</td>\n",
       "      <td>23</td>\n",
       "      <td>...</td>\n",
       "      <td>0</td>\n",
       "      <td>1</td>\n",
       "      <td>0</td>\n",
       "      <td>0</td>\n",
       "      <td>1</td>\n",
       "      <td>1</td>\n",
       "      <td>1</td>\n",
       "      <td>18</td>\n",
       "      <td>6</td>\n",
       "      <td>Standard</td>\n",
       "    </tr>\n",
       "  </tbody>\n",
       "</table>\n",
       "<p>100000 rows × 36 columns</p>\n",
       "</div>"
      ],
      "text/plain": [
       "          Month  Age  Occupation  Annual_Income  Monthly_Inhand_Salary   \n",
       "0         April   17      Lawyer       30625.94            2706.161667  \\\n",
       "1        August   18      Lawyer       30625.94            2706.161667   \n",
       "2      February   17      Lawyer       30625.94            2706.161667   \n",
       "3       January   17      Lawyer       30625.94            2706.161667   \n",
       "4          July   18      Lawyer       30625.94            2706.161667   \n",
       "...         ...  ...         ...            ...                    ...   \n",
       "99995   January   29   Scientist       41398.44            3749.870000   \n",
       "99996      July   30   Scientist       41398.44            3749.870000   \n",
       "99997      June   29   Scientist       41398.44            3749.870000   \n",
       "99998     March   29   Scientist       41398.44            3749.870000   \n",
       "99999       May   29  Unemployed       41398.44            3749.870000   \n",
       "\n",
       "       Num_Bank_Accounts  Num_Credit_Card  Interest_Rate  Num_of_Loan   \n",
       "0                      6                5             27            2  \\\n",
       "1                      6                5             27            2   \n",
       "2                      6                5             27            2   \n",
       "3                      6                5             27            2   \n",
       "4                      6                5             27            2   \n",
       "...                  ...              ...            ...          ...   \n",
       "99995                  8                7             13            6   \n",
       "99996                  8                7             13            6   \n",
       "99997                  8                7             13            6   \n",
       "99998                  8                7             13            6   \n",
       "99999                  8                7             13            6   \n",
       "\n",
       "       Delay_from_due_date  ...  Missing_Information  Home Equity Loan   \n",
       "0                       64  ...                    0                 1  \\\n",
       "1                       57  ...                    0                 1   \n",
       "2                       62  ...                    0                 1   \n",
       "3                       62  ...                    0                 1   \n",
       "4                       62  ...                    0                 1   \n",
       "...                    ...  ...                  ...               ...   \n",
       "99995                   25  ...                    0                 1   \n",
       "99996                   23  ...                    0                 1   \n",
       "99997                   23  ...                    0                 1   \n",
       "99998                   25  ...                    0                 1   \n",
       "99999                   23  ...                    0                 1   \n",
       "\n",
       "       Debt Consolidation Loan Credit-Builder Loan  Auto Loan  Payday Loan   \n",
       "0                            0                   1          0            0  \\\n",
       "1                            0                   1          0            0   \n",
       "2                            0                   1          0            0   \n",
       "3                            0                   1          0            0   \n",
       "4                            0                   1          0            0   \n",
       "...                        ...                 ...        ...          ...   \n",
       "99995                        0                   0          1            1   \n",
       "99996                        0                   0          1            1   \n",
       "99997                        0                   0          1            1   \n",
       "99998                        0                   0          1            1   \n",
       "99999                        0                   0          1            1   \n",
       "\n",
       "      Mortgage Loan  Years  Months Previous_Classification  \n",
       "0                 0     10       5                     NCR  \n",
       "1                 0     10       9                    Poor  \n",
       "2                 0     10       3                    Poor  \n",
       "3                 0     10       2                    Poor  \n",
       "4                 0     10       8                Standard  \n",
       "...             ...    ...     ...                     ...  \n",
       "99995             1     18       2                Standard  \n",
       "99996             1     18       8                Standard  \n",
       "99997             1     18       7                    Good  \n",
       "99998             1     18       4                Standard  \n",
       "99999             1     18       6                Standard  \n",
       "\n",
       "[100000 rows x 36 columns]"
      ]
     },
     "execution_count": 32,
     "metadata": {},
     "output_type": "execute_result"
    }
   ],
   "source": [
    "train"
   ]
  },
  {
   "attachments": {},
   "cell_type": "markdown",
   "metadata": {},
   "source": [
    "##### Saving the datframe to CSV"
   ]
  },
  {
   "cell_type": "code",
   "execution_count": null,
   "metadata": {},
   "outputs": [],
   "source": [
    "train.to_csv(\"train_clean\", index=False)"
   ]
  }
 ],
 "metadata": {
  "kernelspec": {
   "display_name": "env_pytorch",
   "language": "python",
   "name": "python3"
  },
  "language_info": {
   "codemirror_mode": {
    "name": "ipython",
    "version": 3
   },
   "file_extension": ".py",
   "mimetype": "text/x-python",
   "name": "python",
   "nbconvert_exporter": "python",
   "pygments_lexer": "ipython3",
   "version": "3.11.0"
  },
  "orig_nbformat": 4
 },
 "nbformat": 4,
 "nbformat_minor": 2
}
